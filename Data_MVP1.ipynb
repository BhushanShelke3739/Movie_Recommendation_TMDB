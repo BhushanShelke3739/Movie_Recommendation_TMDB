{
 "cells": [
  {
   "cell_type": "code",
   "execution_count": null,
   "id": "f41bffcf",
   "metadata": {},
   "outputs": [],
   "source": [
    "import pandas as pd\n",
    "import numpy as np\n",
    "import os\n",
    "import seaborn as sns\n",
    "import matplotlib.pyplot as plt"
   ]
  },
  {
   "cell_type": "code",
   "execution_count": null,
   "id": "9157054d",
   "metadata": {},
   "outputs": [],
   "source": [
    "df = pd.read_csv(r'C:\\\\Users\\\\bhush\\\\Downloads\\\\Coursework\\\\INFO I 501\\\\project\\\\tmdb_tfidf1.csv')"
   ]
  },
  {
   "cell_type": "code",
   "execution_count": null,
   "id": "5452959a",
   "metadata": {},
   "outputs": [],
   "source": [
    "df.columns"
   ]
  },
  {
   "cell_type": "code",
   "execution_count": null,
   "id": "1a19da48",
   "metadata": {},
   "outputs": [],
   "source": [
    "df.drop(columns = 'Unnamed: 0', inplace = True)"
   ]
  },
  {
   "cell_type": "code",
   "execution_count": null,
   "id": "ae85f9b3",
   "metadata": {
    "collapsed": true
   },
   "outputs": [],
   "source": [
    "df['movie_collection'] = df['budget'] - df['revenue']"
   ]
  },
  {
   "cell_type": "code",
   "execution_count": null,
   "id": "009c5847",
   "metadata": {},
   "outputs": [],
   "source": [
    "from sklearn.feature_extraction.text import CountVectorizer\n",
    "from sklearn.metrics.pairwise import cosine_similarity"
   ]
  },
  {
   "cell_type": "code",
   "execution_count": null,
   "id": "b635d3c8",
   "metadata": {
    "collapsed": true
   },
   "outputs": [],
   "source": [
    "cosine_sim = cosine_similarity(df['tfidf_vector'][0], df['tfidf_vector'][0])\n",
    "\n",
    "print(cosine_sim)"
   ]
  },
  {
   "cell_type": "code",
   "execution_count": null,
   "id": "653b3b83",
   "metadata": {},
   "outputs": [],
   "source": [
    "type(df['tfidf_vector'][0])"
   ]
  },
  {
   "cell_type": "code",
   "execution_count": null,
   "id": "c303eef6",
   "metadata": {},
   "outputs": [],
   "source": [
    "\n",
    "from sklearn.feature_extraction.text import TfidfVectorizer"
   ]
  },
  {
   "cell_type": "code",
   "execution_count": null,
   "id": "f6b04ffb",
   "metadata": {
    "collapsed": true
   },
   "outputs": [],
   "source": [
    "tfidf_vectorizer = TfidfVectorizer()\n",
    "\n",
    "# Fit and transform the text data to create TF-IDF vectors\n",
    "tfidf_matrix = tfidf_vectorizer.fit_transform(df['overview'])\n",
    "\n",
    "# Calculate the cosine similarity between two rows (documents) in the DataFrame\n",
    "# For example, let's calculate the cosine similarity between the first and second documents (rows 0 and 1)\n",
    "document1 = df['overview'][0]  # Index of the first document\n",
    "document2 = df['overview'][1]  # Index of the second document\n",
    "\n",
    "cosine_sim = cosine_similarity(tfidf_matrix[df['overview'][0]], tfidf_matrix[df['overview'][1]])\n",
    "\n",
    "print(cosine_sim)"
   ]
  },
  {
   "cell_type": "code",
   "execution_count": null,
   "id": "48f3bb8b",
   "metadata": {},
   "outputs": [],
   "source": [
    "import random"
   ]
  },
  {
   "cell_type": "code",
   "execution_count": null,
   "id": "8f6a5015",
   "metadata": {
    "collapsed": true
   },
   "outputs": [],
   "source": [
    "\n",
    "\n",
    "\n",
    "# Initialize the TF-IDF vectorizer\n",
    "tfidf_vectorizer = TfidfVectorizer()\n",
    "\n",
    "# Fit and transform the text data to create TF-IDF vectors\n",
    "tfidf_matrix = tfidf_vectorizer.fit_transform(df['overview'])\n",
    "\n",
    "# Calculate the cosine similarity between the two documents\n"
   ]
  },
  {
   "cell_type": "code",
   "execution_count": null,
   "id": "d8e14708",
   "metadata": {},
   "outputs": [],
   "source": [
    "len(df)"
   ]
  },
  {
   "cell_type": "code",
   "execution_count": null,
   "id": "ccff971c",
   "metadata": {},
   "outputs": [],
   "source": [
    "cosine_sim = {}\n",
    "i = 1\n",
    "while i<776059:\n",
    "    cosine_sim1 = cosine_similarity(tfidf_matrix[25], tfidf_matrix[i])\n",
    "    cosine_sim[df['title'][i]] = cosine_sim1\n",
    "    i = i+1"
   ]
  },
  {
   "cell_type": "code",
   "execution_count": null,
   "id": "ed5c3ae0",
   "metadata": {},
   "outputs": [],
   "source": [
    "cosine_sim"
   ]
  },
  {
   "cell_type": "code",
   "execution_count": null,
   "id": "6f6be174",
   "metadata": {},
   "outputs": [],
   "source": [
    "from numpy import array\n",
    "\n",
    "# Sort the dictionary by the second value in the arrays\n",
    "sorted_data = dict(sorted(cosine_sim.items(), key=lambda item: item[1][0][0], reverse = True))\n",
    "\n",
    "# Print the sorted dictionary\n",
    "print(sorted_data)"
   ]
  }
 ],
 "metadata": {
  "kernelspec": {
   "display_name": "Python 3 (ipykernel)",
   "language": "python",
   "name": "python3"
  },
  "language_info": {
   "codemirror_mode": {
    "name": "ipython",
    "version": 3
   },
   "file_extension": ".py",
   "mimetype": "text/x-python",
   "name": "python",
   "nbconvert_exporter": "python",
   "pygments_lexer": "ipython3",
   "version": "3.9.2"
  }
 },
 "nbformat": 4,
 "nbformat_minor": 5
}
